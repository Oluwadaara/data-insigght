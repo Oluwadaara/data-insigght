{
 "cells": [
  {
   "cell_type": "markdown",
   "id": "be72c8be",
   "metadata": {},
   "source": [
    "                            BODY MASS INDEX (BMI) CALCULATOR\n",
    "\n",
    "Body Mass Index (BMI) is a measurement of a person’s weight with respect to his or her height. It is more of an indicator than a direct measurement of a person’s total body fat.\n",
    "\n",
    "BMI, more often than not, correlates with total body fat. This means that as the BMI score increases, so does a person’s total body fat.\n",
    "\n",
    "Body Mass Index (BMI) is a person’s weight in kilograms divided by the square of height in meters. A high BMI can indicate high body fatness. BMI screens for weight categories that may lead to health problems, but it does not diagnose the body fatness or health of an individual.\n",
    "Formula for BMI = weight in kilograms * square of height in meters\n"
   ]
  },
  {
   "cell_type": "code",
   "execution_count": 5,
   "id": "51462a9d",
   "metadata": {},
   "outputs": [
    {
     "name": "stdout",
     "output_type": "stream",
     "text": [
      "Enter your weight in KG:56\n",
      "Enter your height in meteres:1.5\n"
     ]
    },
    {
     "data": {
      "text/plain": [
       "24.88888888888889"
      ]
     },
     "execution_count": 5,
     "metadata": {},
     "output_type": "execute_result"
    }
   ],
   "source": [
    "weight = input(\"Enter your weight in KG:\")\n",
    "height = input(\"Enter your height in meteres:\")\n",
    "BMI = float(weight)/ float(height)**2\n",
    "BMI"
   ]
  },
  {
   "cell_type": "code",
   "execution_count": null,
   "id": "e21b2681",
   "metadata": {},
   "outputs": [],
   "source": []
  }
 ],
 "metadata": {
  "kernelspec": {
   "display_name": "Python 3",
   "language": "python",
   "name": "python3"
  },
  "language_info": {
   "codemirror_mode": {
    "name": "ipython",
    "version": 3
   },
   "file_extension": ".py",
   "mimetype": "text/x-python",
   "name": "python",
   "nbconvert_exporter": "python",
   "pygments_lexer": "ipython3",
   "version": "3.8.8"
  }
 },
 "nbformat": 4,
 "nbformat_minor": 5
}
