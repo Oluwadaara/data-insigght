{
 "cells": [
  {
   "cell_type": "markdown",
   "id": "4913d162",
   "metadata": {},
   "source": [
    "                    Simple Interest Calculator\n",
    "Simple interest is interest calculated on the principal portion of a loan or the original contribution to a savings account. Simple interest does not compound, meaning that an account holder will only gain interest on the principal, and a borrower will never have to pay interest on interest already accrued.\n",
    "\n",
    "The formula for calculating simple interest is: amount * Interest Rate * Term of the loan.\n",
    "    "
   ]
  },
  {
   "cell_type": "code",
   "execution_count": 6,
   "id": "ad29ca27",
   "metadata": {},
   "outputs": [
    {
     "name": "stdout",
     "output_type": "stream",
     "text": [
      "Enter the amount you want to save or borrow: 300000\n",
      "Enter how long you wan to save or borrow for: 8\n",
      "Your interest is 240000.0\n"
     ]
    }
   ],
   "source": [
    "amount = input('Enter the amount you want to save or borrow: ')\n",
    "rate = 10\n",
    "term =input('Enter how long you wan to save or borrow for: ')\n",
    "interest = (float(amount)*rate*float(term))/100\n",
    "interest\n",
    "print('Your interest is '+ str(interest))"
   ]
  }
 ],
 "metadata": {
  "kernelspec": {
   "display_name": "Python 3",
   "language": "python",
   "name": "python3"
  },
  "language_info": {
   "codemirror_mode": {
    "name": "ipython",
    "version": 3
   },
   "file_extension": ".py",
   "mimetype": "text/x-python",
   "name": "python",
   "nbconvert_exporter": "python",
   "pygments_lexer": "ipython3",
   "version": "3.8.8"
  }
 },
 "nbformat": 4,
 "nbformat_minor": 5
}
